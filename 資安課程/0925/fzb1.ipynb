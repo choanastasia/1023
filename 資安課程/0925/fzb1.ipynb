{
 "cells": [
  {
   "cell_type": "code",
   "execution_count": 2,
   "id": "f854a2fc",
   "metadata": {},
   "outputs": [
    {
     "data": {
      "text/plain": [
       "'!7#%\"*#0=)$;%6*;>638:*>80\"=</>(/*:-(2<4 !:5*6856&?\"\"11<7+%<%7,4.8,*+&,,$,.\"5%<%76< -5'"
      ]
     },
     "execution_count": 2,
     "metadata": {},
     "output_type": "execute_result"
    }
   ],
   "source": [
    "from fuzzingbook.Fuzzer import RandomFuzzer\n",
    "f = RandomFuzzer()\n",
    "f.fuzz()"
   ]
  },
  {
   "cell_type": "code",
   "execution_count": 3,
   "id": "45d96ca6",
   "metadata": {},
   "outputs": [
    {
     "name": "stdout",
     "output_type": "stream",
     "text": [
      "approx = None\n",
      "approx = 4.5\n",
      "approx = 3.25\n",
      "approx = 3.0096153846153846\n",
      "approx = 3.000015360039322\n",
      "approx = 3.0000000000393214\n"
     ]
    },
    {
     "data": {
      "text/plain": [
       "3.0"
      ]
     },
     "execution_count": 3,
     "metadata": {},
     "output_type": "execute_result"
    }
   ],
   "source": [
    "def my_sqrt(x):\n",
    "    \"\"\"Computes the square root of x, using the Newton-Raphson method\"\"\"\n",
    "    approx = None\n",
    "    guess = x / 2\n",
    "    while approx != guess:\n",
    "        print(\"approx =\", approx)  # <-- New\n",
    "        approx = guess\n",
    "        guess = (approx + x / approx) / 2\n",
    "    return approx\n",
    "\n",
    "my_sqrt(9)\n"
   ]
  },
  {
   "cell_type": "code",
   "execution_count": 4,
   "id": "30e1272e",
   "metadata": {},
   "outputs": [
    {
     "name": "stdout",
     "output_type": "stream",
     "text": [
      "approx = None\n",
      "Test passed\n"
     ]
    }
   ],
   "source": [
    "result = my_sqrt(4)\n",
    "expected_result = 2.0\n",
    "if result == expected_result:\n",
    "    print(\"Test passed\")\n",
    "else:\n",
    "    print(\"Test failed\")"
   ]
  },
  {
   "cell_type": "code",
   "execution_count": 5,
   "id": "711de101",
   "metadata": {},
   "outputs": [
    {
     "name": "stdout",
     "output_type": "stream",
     "text": [
      "approx = None\n",
      "approx = 4.5\n",
      "approx = 3.25\n",
      "approx = 3.0096153846153846\n",
      "approx = 3.000015360039322\n",
      "approx = 3.0000000000393214\n",
      "approx = None\n",
      "----\n",
      "approx = None\n",
      "----\n",
      "approx = None\n",
      "approx = 4.5\n",
      "approx = 3.25\n",
      "approx = 3.0096153846153846\n",
      "approx = 3.000015360039322\n",
      "approx = 3.0000000000393214\n",
      "----\n",
      "approx = None\n",
      "approx = 50.0\n",
      "approx = 26.0\n",
      "approx = 14.923076923076923\n",
      "approx = 10.812053925455988\n",
      "approx = 10.030495203889796\n",
      "approx = 10.000046356507898\n",
      "approx = 10.000000000107445\n"
     ]
    },
    {
     "ename": "AssertionError",
     "evalue": "",
     "output_type": "error",
     "traceback": [
      "\u001b[0;31m---------------------------------------------------------------------------\u001b[0m",
      "\u001b[0;31mAssertionError\u001b[0m                            Traceback (most recent call last)",
      "Cell \u001b[0;32mIn [5], line 23\u001b[0m\n\u001b[1;32m     21\u001b[0m assertEquals(my_sqrt_with_log(\u001b[38;5;241m9\u001b[39m), \u001b[38;5;241m3\u001b[39m)\n\u001b[1;32m     22\u001b[0m \u001b[38;5;28mprint\u001b[39m(\u001b[38;5;124m\"\u001b[39m\u001b[38;5;124m----\u001b[39m\u001b[38;5;124m\"\u001b[39m) \n\u001b[0;32m---> 23\u001b[0m \u001b[43massertEquals\u001b[49m\u001b[43m(\u001b[49m\u001b[43mmy_sqrt_with_log\u001b[49m\u001b[43m(\u001b[49m\u001b[38;5;241;43m100\u001b[39;49m\u001b[43m)\u001b[49m\u001b[43m,\u001b[49m\u001b[43m \u001b[49m\u001b[38;5;241;43m9\u001b[39;49m\u001b[43m)\u001b[49m\n",
      "Cell \u001b[0;32mIn [5], line 16\u001b[0m, in \u001b[0;36massertEquals\u001b[0;34m(x, y, epsilon)\u001b[0m\n\u001b[1;32m     15\u001b[0m \u001b[38;5;28;01mdef\u001b[39;00m \u001b[38;5;21massertEquals\u001b[39m(x, y, epsilon\u001b[38;5;241m=\u001b[39m\u001b[38;5;241m1e-8\u001b[39m):\n\u001b[0;32m---> 16\u001b[0m     \u001b[38;5;28;01massert\u001b[39;00m \u001b[38;5;28mabs\u001b[39m(x \u001b[38;5;241m-\u001b[39m y) \u001b[38;5;241m<\u001b[39m epsilon\n",
      "\u001b[0;31mAssertionError\u001b[0m: "
     ]
    }
   ],
   "source": [
    "def my_sqrt_with_log(x):\n",
    "    \"\"\"Computes the square root of x, using the Newton–Raphson method\"\"\"\n",
    "    approx = None\n",
    "    guess = x / 2\n",
    "    while approx != guess:\n",
    "        print(\"approx =\", approx)  # <-- New\n",
    "        approx = guess\n",
    "        guess = (approx + x / approx) / 2\n",
    "    return approx\n",
    "my_sqrt_with_log(9)\n",
    "\n",
    "EPSILON = 1e-8\n",
    "assert abs(my_sqrt_with_log(4) - 2) < EPSILON\n",
    "\n",
    "def assertEquals(x, y, epsilon=1e-8):\n",
    "    assert abs(x - y) < epsilon\n",
    "\n",
    "print(\"----\")    \n",
    "assertEquals(my_sqrt_with_log(4), 2)\n",
    "print(\"----\") \n",
    "assertEquals(my_sqrt_with_log(9), 3)\n",
    "print(\"----\") \n",
    "assertEquals(my_sqrt_with_log(100), 9)"
   ]
  },
  {
   "cell_type": "code",
   "execution_count": 6,
   "id": "c04e815c",
   "metadata": {},
   "outputs": [
    {
     "name": "stdout",
     "output_type": "stream",
     "text": [
      "approx = None\n",
      "----\n",
      "approx = None\n",
      "----\n",
      "approx = None\n",
      "approx = 4.5\n",
      "approx = 3.25\n",
      "approx = 3.0096153846153846\n",
      "approx = 3.000015360039322\n",
      "approx = 3.0000000000393214\n",
      "----\n"
     ]
    },
    {
     "ename": "AssertionError",
     "evalue": "",
     "output_type": "error",
     "traceback": [
      "\u001b[0;31m---------------------------------------------------------------------------\u001b[0m",
      "\u001b[0;31mAssertionError\u001b[0m                            Traceback (most recent call last)",
      "Cell \u001b[0;32mIn [6], line 29\u001b[0m\n\u001b[1;32m     27\u001b[0m assertEquals(my_sqrt_fixed(\u001b[38;5;241m9\u001b[39m), \u001b[38;5;241m3\u001b[39m)\n\u001b[1;32m     28\u001b[0m \u001b[38;5;28mprint\u001b[39m(\u001b[38;5;124m\"\u001b[39m\u001b[38;5;124m----\u001b[39m\u001b[38;5;124m\"\u001b[39m) \n\u001b[0;32m---> 29\u001b[0m assertEquals(\u001b[43mmy_sqrt_fixed\u001b[49m\u001b[43m(\u001b[49m\u001b[38;5;241;43m-\u001b[39;49m\u001b[38;5;241;43m1\u001b[39;49m\u001b[43m)\u001b[49m, \u001b[38;5;241m0\u001b[39m)\n\u001b[1;32m     30\u001b[0m \u001b[38;5;28mprint\u001b[39m(\u001b[38;5;124m\"\u001b[39m\u001b[38;5;124m----\u001b[39m\u001b[38;5;124m\"\u001b[39m) \n\u001b[1;32m     31\u001b[0m assertEquals(my_sqrt_fixed(\u001b[38;5;241m0\u001b[39m), \u001b[38;5;241m0\u001b[39m)\n",
      "Cell \u001b[0;32mIn [6], line 13\u001b[0m, in \u001b[0;36mmy_sqrt_fixed\u001b[0;34m(x)\u001b[0m\n\u001b[1;32m     12\u001b[0m \u001b[38;5;28;01mdef\u001b[39;00m \u001b[38;5;21mmy_sqrt_fixed\u001b[39m(x):\n\u001b[0;32m---> 13\u001b[0m     \u001b[38;5;28;01massert\u001b[39;00m \u001b[38;5;241m0\u001b[39m \u001b[38;5;241m<\u001b[39m\u001b[38;5;241m=\u001b[39m x\n\u001b[1;32m     14\u001b[0m     \u001b[38;5;28;01mif\u001b[39;00m x \u001b[38;5;241m==\u001b[39m \u001b[38;5;241m0\u001b[39m:\n\u001b[1;32m     15\u001b[0m         \u001b[38;5;28;01mreturn\u001b[39;00m \u001b[38;5;241m0\u001b[39m\n",
      "\u001b[0;31mAssertionError\u001b[0m: "
     ]
    }
   ],
   "source": [
    "def my_sqrt(x):\n",
    "    \"\"\"Computes the square root of x, using the Newton-Raphson method\"\"\"\n",
    "    approx = None\n",
    "    guess = x / 2\n",
    "    while approx != guess:\n",
    "        print(\"approx =\", approx)  # <-- New\n",
    "        approx = guess\n",
    "        guess = (approx + x / approx) / 2\n",
    "    return approx\n",
    "\n",
    "\n",
    "def my_sqrt_fixed(x):\n",
    "    assert 0 <= x\n",
    "    if x == 0:\n",
    "        return 0\n",
    "    return my_sqrt(x)\n",
    "\n",
    "EPSILON = 1e-8\n",
    "assert abs(my_sqrt_with_log(4) - 2) < EPSILON\n",
    "\n",
    "def assertEquals(x, y, epsilon=1e-8):\n",
    "    assert abs(x - y) < epsilon\n",
    "\n",
    "print(\"----\")    \n",
    "assertEquals(my_sqrt_fixed(4), 2)\n",
    "print(\"----\") \n",
    "assertEquals(my_sqrt_fixed(9), 3)\n",
    "print(\"----\") \n",
    "assertEquals(my_sqrt_fixed(-1), 0)\n",
    "print(\"----\") \n",
    "assertEquals(my_sqrt_fixed(0), 0)"
   ]
  },
  {
   "cell_type": "code",
   "execution_count": 7,
   "id": "6c47c272",
   "metadata": {},
   "outputs": [],
   "source": [
    "import random\n",
    "def fuzzer(max_length: int = 100, char_start: int = 32, char_range: int = 32) -> str:\n",
    "    \"\"\"A string of up to `max_length` characters\n",
    "       in the range [`char_start`, `char_start` + `char_range`)\"\"\"\n",
    "    string_length = random.randrange(0, max_length + 1)\n",
    "    out = \"\"\n",
    "    for i in range(0, string_length):\n",
    "        out += chr(random.randrange(char_start, char_start + char_range))\n",
    "    return out\n"
   ]
  },
  {
   "cell_type": "code",
   "execution_count": 11,
   "id": "7959a002",
   "metadata": {},
   "outputs": [
    {
     "data": {
      "text/plain": [
       "'<6*7!&\\':<\\')7;>=>=?8=*190 &5/.)4/\\'++>#(,&#?+(** 9;>;010!\" 5=>&8>=677 2.0)*>8*1\"677>% *$!,70%\\' -14<,)'"
      ]
     },
     "execution_count": 11,
     "metadata": {},
     "output_type": "execute_result"
    }
   ],
   "source": [
    "fuzzer()"
   ]
  },
  {
   "cell_type": "code",
   "execution_count": 13,
   "id": "c242a97c",
   "metadata": {},
   "outputs": [
    {
     "data": {
      "text/plain": [
       "'mfmiuoighhhggoanlunxshudryyoswgqkpkbwegkclhnfboyrzvgtzcnqrakijhpfflrnhvdfgduwbtnjwonbutvdxfnefaisibspsbahgmiqzojdjxehtfvlbbowhorunrxxvqxtvvravefvlpjawbxgycklpfywextumryemekrxvoulduypfztdmjvsdkhrvatgkudqgpmtfqrxibigokosxigelurclrsflmoangbvfucjhieorguayxktehkyptngcbnlhkutmjcwrinklpckaicmigwaiplyxnbdlmrnyelmgcllmaqehsvbmozkrkjeorztuxehhmfzxtywyhwnpwpbxjfbihuxtwxocyhutksmpxnscznjedvwnhgvrctrafxgqmkqsltmhfwwfmfqxggbqmvlnqldvznxvgyixffsorahmczrtdpbdnfwbffxzqqbakhwqzqxcmgoeqwhjoiikbtpaaybxcragnxvxaygdhtfgjjbckunuusjkymxbiwbtvatmzyofmolqwzkgljeolmrblutygpsbofvjznfmvzrbtmgcjgouocoqopyqqpzcnumorywziiwccvfwychvcxnyvaomzdkfdjllmjcioizrffjftangrafbjieyjvkslnfhykqlxqkqtdoksfvcbvucjahjazrmmafduqhgzpzrpplvgtmbwyczmwnixadxttwiesnvbshnhrfvihlmwjsxdhfomyrgdysvswqljfoxlrqnzqskxtzhchmcancbuknfyluvobtbqjmbejaoetkgfuzxtspufbqgfxfpjzdnpmxaalqhlyuruybmfnmagipkftm'"
      ]
     },
     "execution_count": 13,
     "metadata": {},
     "output_type": "execute_result"
    }
   ],
   "source": [
    "fuzzer(1000, ord('a'), 26)"
   ]
  },
  {
   "cell_type": "code",
   "execution_count": 14,
   "id": "c7a37cd2",
   "metadata": {},
   "outputs": [
    {
     "name": "stdout",
     "output_type": "stream",
     "text": [
      "!?'!?(\n",
      "*\n",
      "1\n",
      "811\n",
      "<61&.?\n",
      "</;)+7\n",
      "$\";\n",
      "+<?/\" \n",
      "\n",
      ",(=\n",
      "%&\n",
      "--2;!\n",
      "+>&.8;*1*\n"
     ]
    },
    {
     "name": "stderr",
     "output_type": "stream",
     "text": [
      "Traceback (most recent call last):\n",
      "  File \"/tmp/ipykernel_1990782/1901373571.py\", line 12, in <module>\n",
      "    crash_if_too_long(s)\n",
      "  File \"/tmp/ipykernel_1990782/1901373571.py\", line 4, in crash_if_too_long\n",
      "    raise ValueError\n",
      "ValueError (expected)\n"
     ]
    }
   ],
   "source": [
    "def crash_if_too_long(s):\n",
    "    buffer = \"Thursday\"\n",
    "    if len(s) > len(buffer):\n",
    "        raise ValueError\n",
    "\n",
    "from fuzzingbook.ExpectError import ExpectError\n",
    "trials = 100\n",
    "with ExpectError():\n",
    "    for i in range(trials):\n",
    "        s = fuzzer(max_length=9)\n",
    "        print(s)\n",
    "        crash_if_too_long(s)"
   ]
  },
  {
   "cell_type": "code",
   "execution_count": 24,
   "id": "b3385df7",
   "metadata": {},
   "outputs": [
    {
     "name": "stdout",
     "output_type": "stream",
     "text": [
      "\u001b[36m#\u001b[39;49;00m\u001b[36minclude\u001b[39;49;00m\u001b[37m \u001b[39;49;00m\u001b[37m<stdlib.h>\u001b[39;49;00m\u001b[36m\u001b[39;49;00m\n",
      "\u001b[36m#\u001b[39;49;00m\u001b[36minclude\u001b[39;49;00m\u001b[37m \u001b[39;49;00m\u001b[37m<string.h>\u001b[39;49;00m\u001b[36m\u001b[39;49;00m\n",
      "\u001b[37m\u001b[39;49;00m\n",
      "\u001b[36mint\u001b[39;49;00m\u001b[37m \u001b[39;49;00m\u001b[32mmain\u001b[39;49;00m(\u001b[36mint\u001b[39;49;00m\u001b[37m \u001b[39;49;00margc,\u001b[37m \u001b[39;49;00m\u001b[36mchar\u001b[39;49;00m**\u001b[37m \u001b[39;49;00margv)\u001b[37m \u001b[39;49;00m{\u001b[37m\u001b[39;49;00m\n",
      "\u001b[37m    \u001b[39;49;00m\u001b[37m/* Create an array with 100 bytes, initialized with 42 */\u001b[39;49;00m\u001b[37m\u001b[39;49;00m\n",
      "\u001b[37m    \u001b[39;49;00m\u001b[36mchar\u001b[39;49;00m\u001b[37m \u001b[39;49;00m*buf\u001b[37m \u001b[39;49;00m=\u001b[37m \u001b[39;49;00mmalloc(\u001b[34m100\u001b[39;49;00m);\u001b[37m\u001b[39;49;00m\n",
      "\u001b[37m    \u001b[39;49;00mmemset(buf,\u001b[37m \u001b[39;49;00m\u001b[34m42\u001b[39;49;00m,\u001b[37m \u001b[39;49;00m\u001b[34m100\u001b[39;49;00m);\u001b[37m\u001b[39;49;00m\n",
      "\u001b[37m    \u001b[39;49;00m\u001b[37m/* Read the N-th element, with N being the first command-line argument */\u001b[39;49;00m\u001b[37m\u001b[39;49;00m\n",
      "\u001b[37m    \u001b[39;49;00m\u001b[36mint\u001b[39;49;00m\u001b[37m \u001b[39;49;00mindex\u001b[37m \u001b[39;49;00m=\u001b[37m \u001b[39;49;00matoi(argv[\u001b[34m1\u001b[39;49;00m]);\u001b[37m\u001b[39;49;00m\n",
      "\u001b[37m    \u001b[39;49;00m\u001b[36mchar\u001b[39;49;00m\u001b[37m \u001b[39;49;00mval\u001b[37m \u001b[39;49;00m=\u001b[37m \u001b[39;49;00mbuf[index];\u001b[37m\u001b[39;49;00m\n",
      "\u001b[37m\u001b[39;49;00m\n",
      "\u001b[37m    \u001b[39;49;00m\u001b[37m/* Clean up memory so we don't leak */\u001b[39;49;00m\u001b[37m\u001b[39;49;00m\n",
      "\u001b[37m    \u001b[39;49;00mfree(buf);\u001b[37m\u001b[39;49;00m\n",
      "\u001b[37m    \u001b[39;49;00m\u001b[34mreturn\u001b[39;49;00m\u001b[37m \u001b[39;49;00mval;\u001b[37m\u001b[39;49;00m\n",
      "}\u001b[37m\u001b[39;49;00m\n",
      "\u001b[37m    \u001b[39;49;00m\u001b[37m\u001b[39;49;00m\n",
      "42\n",
      "=================================================================\n",
      "\u001b[1m\u001b[31m==2021099==ERROR: AddressSanitizer: heap-buffer-overflow on address 0x60b0000000ae at pc 0x55a61dffff4c bp 0x7fffa4cc6f80 sp 0x7fffa4cc6f78\n",
      "\u001b[1m\u001b[0m\u001b[1m\u001b[34mREAD of size 1 at 0x60b0000000ae thread T0\u001b[1m\u001b[0m\n",
      "    #0 0x55a61dffff4b in main /home/one/program.c:11:16\n",
      "    #1 0x7f50b0b7a6c9 in __libc_start_call_main csu/../sysdeps/nptl/libc_start_call_main.h:58:16\n",
      "    #2 0x7f50b0b7a784 in __libc_start_main csu/../csu/libc-start.c:360:3\n",
      "    #3 0x55a61df42300 in _start (/home/one/program+0x20300) (BuildId: 3c8b6a66622cd7b906eabc1556f91513db17e76c)\n",
      "\n",
      "\u001b[1m\u001b[32m0x60b0000000ae is located 10 bytes to the right of 100-byte region [0x60b000000040,0x60b0000000a4)\n",
      "\u001b[1m\u001b[0m\u001b[1m\u001b[35mallocated by thread T0 here:\u001b[1m\u001b[0m\n",
      "    #0 0x55a61dfc514e in __interceptor_malloc (/home/one/program+0xa314e) (BuildId: 3c8b6a66622cd7b906eabc1556f91513db17e76c)\n",
      "    #1 0x55a61dfffebf in main /home/one/program.c:7:17\n",
      "    #2 0x7f50b0b7a6c9 in __libc_start_call_main csu/../sysdeps/nptl/libc_start_call_main.h:58:16\n",
      "\n",
      "SUMMARY: AddressSanitizer: heap-buffer-overflow /home/one/program.c:11:16 in main\n",
      "Shadow bytes around the buggy address:\n",
      "  0x0c167fff7fc0: \u001b[1m\u001b[0m00\u001b[1m\u001b[0m \u001b[1m\u001b[0m00\u001b[1m\u001b[0m \u001b[1m\u001b[0m00\u001b[1m\u001b[0m \u001b[1m\u001b[0m00\u001b[1m\u001b[0m \u001b[1m\u001b[0m00\u001b[1m\u001b[0m \u001b[1m\u001b[0m00\u001b[1m\u001b[0m \u001b[1m\u001b[0m00\u001b[1m\u001b[0m \u001b[1m\u001b[0m00\u001b[1m\u001b[0m \u001b[1m\u001b[0m00\u001b[1m\u001b[0m \u001b[1m\u001b[0m00\u001b[1m\u001b[0m \u001b[1m\u001b[0m00\u001b[1m\u001b[0m \u001b[1m\u001b[0m00\u001b[1m\u001b[0m \u001b[1m\u001b[0m00\u001b[1m\u001b[0m \u001b[1m\u001b[0m00\u001b[1m\u001b[0m \u001b[1m\u001b[0m00\u001b[1m\u001b[0m \u001b[1m\u001b[0m00\u001b[1m\u001b[0m\n",
      "  0x0c167fff7fd0: \u001b[1m\u001b[0m00\u001b[1m\u001b[0m \u001b[1m\u001b[0m00\u001b[1m\u001b[0m \u001b[1m\u001b[0m00\u001b[1m\u001b[0m \u001b[1m\u001b[0m00\u001b[1m\u001b[0m \u001b[1m\u001b[0m00\u001b[1m\u001b[0m \u001b[1m\u001b[0m00\u001b[1m\u001b[0m \u001b[1m\u001b[0m00\u001b[1m\u001b[0m \u001b[1m\u001b[0m00\u001b[1m\u001b[0m \u001b[1m\u001b[0m00\u001b[1m\u001b[0m \u001b[1m\u001b[0m00\u001b[1m\u001b[0m \u001b[1m\u001b[0m00\u001b[1m\u001b[0m \u001b[1m\u001b[0m00\u001b[1m\u001b[0m \u001b[1m\u001b[0m00\u001b[1m\u001b[0m \u001b[1m\u001b[0m00\u001b[1m\u001b[0m \u001b[1m\u001b[0m00\u001b[1m\u001b[0m \u001b[1m\u001b[0m00\u001b[1m\u001b[0m\n",
      "  0x0c167fff7fe0: \u001b[1m\u001b[0m00\u001b[1m\u001b[0m \u001b[1m\u001b[0m00\u001b[1m\u001b[0m \u001b[1m\u001b[0m00\u001b[1m\u001b[0m \u001b[1m\u001b[0m00\u001b[1m\u001b[0m \u001b[1m\u001b[0m00\u001b[1m\u001b[0m \u001b[1m\u001b[0m00\u001b[1m\u001b[0m \u001b[1m\u001b[0m00\u001b[1m\u001b[0m \u001b[1m\u001b[0m00\u001b[1m\u001b[0m \u001b[1m\u001b[0m00\u001b[1m\u001b[0m \u001b[1m\u001b[0m00\u001b[1m\u001b[0m \u001b[1m\u001b[0m00\u001b[1m\u001b[0m \u001b[1m\u001b[0m00\u001b[1m\u001b[0m \u001b[1m\u001b[0m00\u001b[1m\u001b[0m \u001b[1m\u001b[0m00\u001b[1m\u001b[0m \u001b[1m\u001b[0m00\u001b[1m\u001b[0m \u001b[1m\u001b[0m00\u001b[1m\u001b[0m\n",
      "  0x0c167fff7ff0: \u001b[1m\u001b[0m00\u001b[1m\u001b[0m \u001b[1m\u001b[0m00\u001b[1m\u001b[0m \u001b[1m\u001b[0m00\u001b[1m\u001b[0m \u001b[1m\u001b[0m00\u001b[1m\u001b[0m \u001b[1m\u001b[0m00\u001b[1m\u001b[0m \u001b[1m\u001b[0m00\u001b[1m\u001b[0m \u001b[1m\u001b[0m00\u001b[1m\u001b[0m \u001b[1m\u001b[0m00\u001b[1m\u001b[0m \u001b[1m\u001b[0m00\u001b[1m\u001b[0m \u001b[1m\u001b[0m00\u001b[1m\u001b[0m \u001b[1m\u001b[0m00\u001b[1m\u001b[0m \u001b[1m\u001b[0m00\u001b[1m\u001b[0m \u001b[1m\u001b[0m00\u001b[1m\u001b[0m \u001b[1m\u001b[0m00\u001b[1m\u001b[0m \u001b[1m\u001b[0m00\u001b[1m\u001b[0m \u001b[1m\u001b[0m00\u001b[1m\u001b[0m\n",
      "  0x0c167fff8000: \u001b[1m\u001b[31mfa\u001b[1m\u001b[0m \u001b[1m\u001b[31mfa\u001b[1m\u001b[0m \u001b[1m\u001b[31mfa\u001b[1m\u001b[0m \u001b[1m\u001b[31mfa\u001b[1m\u001b[0m \u001b[1m\u001b[31mfa\u001b[1m\u001b[0m \u001b[1m\u001b[31mfa\u001b[1m\u001b[0m \u001b[1m\u001b[31mfa\u001b[1m\u001b[0m \u001b[1m\u001b[31mfa\u001b[1m\u001b[0m \u001b[1m\u001b[0m00\u001b[1m\u001b[0m \u001b[1m\u001b[0m00\u001b[1m\u001b[0m \u001b[1m\u001b[0m00\u001b[1m\u001b[0m \u001b[1m\u001b[0m00\u001b[1m\u001b[0m \u001b[1m\u001b[0m00\u001b[1m\u001b[0m \u001b[1m\u001b[0m00\u001b[1m\u001b[0m \u001b[1m\u001b[0m00\u001b[1m\u001b[0m \u001b[1m\u001b[0m00\u001b[1m\u001b[0m\n",
      "=>0x0c167fff8010: \u001b[1m\u001b[0m00\u001b[1m\u001b[0m \u001b[1m\u001b[0m00\u001b[1m\u001b[0m \u001b[1m\u001b[0m00\u001b[1m\u001b[0m \u001b[1m\u001b[0m00\u001b[1m\u001b[0m \u001b[1m\u001b[0m04\u001b[1m\u001b[0m[\u001b[1m\u001b[31mfa\u001b[1m\u001b[0m]\u001b[1m\u001b[31mfa\u001b[1m\u001b[0m \u001b[1m\u001b[31mfa\u001b[1m\u001b[0m \u001b[1m\u001b[31mfa\u001b[1m\u001b[0m \u001b[1m\u001b[31mfa\u001b[1m\u001b[0m \u001b[1m\u001b[31mfa\u001b[1m\u001b[0m \u001b[1m\u001b[31mfa\u001b[1m\u001b[0m \u001b[1m\u001b[31mfa\u001b[1m\u001b[0m \u001b[1m\u001b[31mfa\u001b[1m\u001b[0m \u001b[1m\u001b[31mfa\u001b[1m\u001b[0m \u001b[1m\u001b[31mfa\u001b[1m\u001b[0m\n",
      "  0x0c167fff8020: \u001b[1m\u001b[31mfa\u001b[1m\u001b[0m \u001b[1m\u001b[31mfa\u001b[1m\u001b[0m \u001b[1m\u001b[31mfa\u001b[1m\u001b[0m \u001b[1m\u001b[31mfa\u001b[1m\u001b[0m \u001b[1m\u001b[31mfa\u001b[1m\u001b[0m \u001b[1m\u001b[31mfa\u001b[1m\u001b[0m \u001b[1m\u001b[31mfa\u001b[1m\u001b[0m \u001b[1m\u001b[31mfa\u001b[1m\u001b[0m \u001b[1m\u001b[31mfa\u001b[1m\u001b[0m \u001b[1m\u001b[31mfa\u001b[1m\u001b[0m \u001b[1m\u001b[31mfa\u001b[1m\u001b[0m \u001b[1m\u001b[31mfa\u001b[1m\u001b[0m \u001b[1m\u001b[31mfa\u001b[1m\u001b[0m \u001b[1m\u001b[31mfa\u001b[1m\u001b[0m \u001b[1m\u001b[31mfa\u001b[1m\u001b[0m \u001b[1m\u001b[31mfa\u001b[1m\u001b[0m\n",
      "  0x0c167fff8030: \u001b[1m\u001b[31mfa\u001b[1m\u001b[0m \u001b[1m\u001b[31mfa\u001b[1m\u001b[0m \u001b[1m\u001b[31mfa\u001b[1m\u001b[0m \u001b[1m\u001b[31mfa\u001b[1m\u001b[0m \u001b[1m\u001b[31mfa\u001b[1m\u001b[0m \u001b[1m\u001b[31mfa\u001b[1m\u001b[0m \u001b[1m\u001b[31mfa\u001b[1m\u001b[0m \u001b[1m\u001b[31mfa\u001b[1m\u001b[0m \u001b[1m\u001b[31mfa\u001b[1m\u001b[0m \u001b[1m\u001b[31mfa\u001b[1m\u001b[0m \u001b[1m\u001b[31mfa\u001b[1m\u001b[0m \u001b[1m\u001b[31mfa\u001b[1m\u001b[0m \u001b[1m\u001b[31mfa\u001b[1m\u001b[0m \u001b[1m\u001b[31mfa\u001b[1m\u001b[0m \u001b[1m\u001b[31mfa\u001b[1m\u001b[0m \u001b[1m\u001b[31mfa\u001b[1m\u001b[0m\n",
      "  0x0c167fff8040: \u001b[1m\u001b[31mfa\u001b[1m\u001b[0m \u001b[1m\u001b[31mfa\u001b[1m\u001b[0m \u001b[1m\u001b[31mfa\u001b[1m\u001b[0m \u001b[1m\u001b[31mfa\u001b[1m\u001b[0m \u001b[1m\u001b[31mfa\u001b[1m\u001b[0m \u001b[1m\u001b[31mfa\u001b[1m\u001b[0m \u001b[1m\u001b[31mfa\u001b[1m\u001b[0m \u001b[1m\u001b[31mfa\u001b[1m\u001b[0m \u001b[1m\u001b[31mfa\u001b[1m\u001b[0m \u001b[1m\u001b[31mfa\u001b[1m\u001b[0m \u001b[1m\u001b[31mfa\u001b[1m\u001b[0m \u001b[1m\u001b[31mfa\u001b[1m\u001b[0m \u001b[1m\u001b[31mfa\u001b[1m\u001b[0m \u001b[1m\u001b[31mfa\u001b[1m\u001b[0m \u001b[1m\u001b[31mfa\u001b[1m\u001b[0m \u001b[1m\u001b[31mfa\u001b[1m\u001b[0m\n",
      "  0x0c167fff8050: \u001b[1m\u001b[31mfa\u001b[1m\u001b[0m \u001b[1m\u001b[31mfa\u001b[1m\u001b[0m \u001b[1m\u001b[31mfa\u001b[1m\u001b[0m \u001b[1m\u001b[31mfa\u001b[1m\u001b[0m \u001b[1m\u001b[31mfa\u001b[1m\u001b[0m \u001b[1m\u001b[31mfa\u001b[1m\u001b[0m \u001b[1m\u001b[31mfa\u001b[1m\u001b[0m \u001b[1m\u001b[31mfa\u001b[1m\u001b[0m \u001b[1m\u001b[31mfa\u001b[1m\u001b[0m \u001b[1m\u001b[31mfa\u001b[1m\u001b[0m \u001b[1m\u001b[31mfa\u001b[1m\u001b[0m \u001b[1m\u001b[31mfa\u001b[1m\u001b[0m \u001b[1m\u001b[31mfa\u001b[1m\u001b[0m \u001b[1m\u001b[31mfa\u001b[1m\u001b[0m \u001b[1m\u001b[31mfa\u001b[1m\u001b[0m \u001b[1m\u001b[31mfa\u001b[1m\u001b[0m\n",
      "  0x0c167fff8060: \u001b[1m\u001b[31mfa\u001b[1m\u001b[0m \u001b[1m\u001b[31mfa\u001b[1m\u001b[0m \u001b[1m\u001b[31mfa\u001b[1m\u001b[0m \u001b[1m\u001b[31mfa\u001b[1m\u001b[0m \u001b[1m\u001b[31mfa\u001b[1m\u001b[0m \u001b[1m\u001b[31mfa\u001b[1m\u001b[0m \u001b[1m\u001b[31mfa\u001b[1m\u001b[0m \u001b[1m\u001b[31mfa\u001b[1m\u001b[0m \u001b[1m\u001b[31mfa\u001b[1m\u001b[0m \u001b[1m\u001b[31mfa\u001b[1m\u001b[0m \u001b[1m\u001b[31mfa\u001b[1m\u001b[0m \u001b[1m\u001b[31mfa\u001b[1m\u001b[0m \u001b[1m\u001b[31mfa\u001b[1m\u001b[0m \u001b[1m\u001b[31mfa\u001b[1m\u001b[0m \u001b[1m\u001b[31mfa\u001b[1m\u001b[0m \u001b[1m\u001b[31mfa\u001b[1m\u001b[0m\n",
      "Shadow byte legend (one shadow byte represents 8 application bytes):\n",
      "  Addressable:           \u001b[1m\u001b[0m00\u001b[1m\u001b[0m\n",
      "  Partially addressable: \u001b[1m\u001b[0m01\u001b[1m\u001b[0m \u001b[1m\u001b[0m02\u001b[1m\u001b[0m \u001b[1m\u001b[0m03\u001b[1m\u001b[0m \u001b[1m\u001b[0m04\u001b[1m\u001b[0m \u001b[1m\u001b[0m05\u001b[1m\u001b[0m \u001b[1m\u001b[0m06\u001b[1m\u001b[0m \u001b[1m\u001b[0m07\u001b[1m\u001b[0m \n",
      "  Heap left redzone:       \u001b[1m\u001b[31mfa\u001b[1m\u001b[0m\n",
      "  Freed heap region:       \u001b[1m\u001b[35mfd\u001b[1m\u001b[0m\n",
      "  Stack left redzone:      \u001b[1m\u001b[31mf1\u001b[1m\u001b[0m\n",
      "  Stack mid redzone:       \u001b[1m\u001b[31mf2\u001b[1m\u001b[0m\n",
      "  Stack right redzone:     \u001b[1m\u001b[31mf3\u001b[1m\u001b[0m\n",
      "  Stack after return:      \u001b[1m\u001b[35mf5\u001b[1m\u001b[0m\n",
      "  Stack use after scope:   \u001b[1m\u001b[35mf8\u001b[1m\u001b[0m\n",
      "  Global redzone:          \u001b[1m\u001b[31mf9\u001b[1m\u001b[0m\n",
      "  Global init order:       \u001b[1m\u001b[36mf6\u001b[1m\u001b[0m\n",
      "  Poisoned by user:        \u001b[1m\u001b[34mf7\u001b[1m\u001b[0m\n",
      "  Container overflow:      \u001b[1m\u001b[34mfc\u001b[1m\u001b[0m\n",
      "  Array cookie:            \u001b[1m\u001b[31mac\u001b[1m\u001b[0m\n",
      "  Intra object redzone:    \u001b[1m\u001b[33mbb\u001b[1m\u001b[0m\n",
      "  ASan internal:           \u001b[1m\u001b[33mfe\u001b[1m\u001b[0m\n",
      "  Left alloca redzone:     \u001b[1m\u001b[34mca\u001b[1m\u001b[0m\n",
      "  Right alloca redzone:    \u001b[1m\u001b[34mcb\u001b[1m\u001b[0m\n",
      "==2021099==ABORTING\n"
     ]
    }
   ],
   "source": [
    "from fuzzingbook.Fuzzer import print_file\n",
    "\n",
    "with open(\"program.c\", \"w\") as f:\n",
    "    f.write(\"\"\"\n",
    "#include <stdlib.h>\n",
    "#include <string.h>\n",
    "\n",
    "int main(int argc, char** argv) {\n",
    "    /* Create an array with 100 bytes, initialized with 42 */\n",
    "    char *buf = malloc(100);\n",
    "    memset(buf, 42, 100);\n",
    "    /* Read the N-th element, with N being the first command-line argument */\n",
    "    int index = atoi(argv[1]);\n",
    "    char val = buf[index];\n",
    "\n",
    "    /* Clean up memory so we don't leak */\n",
    "    free(buf);\n",
    "    return val;\n",
    "}\n",
    "    \"\"\")\n",
    "\n",
    "print_file(\"program.c\")\n",
    "print()\n",
    "!clang -fsanitize=address -g -o program program.c\n",
    "!./program 99; echo $?\n",
    "!./program 110"
   ]
  },
  {
   "cell_type": "code",
   "execution_count": 25,
   "id": "8ae0676d",
   "metadata": {},
   "outputs": [
    {
     "data": {
      "text/plain": [
       "'Hello world& \\\\'"
      ]
     },
     "execution_count": 25,
     "metadata": {},
     "output_type": "execute_result"
    }
   ],
   "source": [
    "def cgi_decode(s: str) -> str:\n",
    "    \"\"\"Decode the CGI-encoded string `s`:\n",
    "       * replace '+' by ' '\n",
    "       * replace \"%xx\" by the character with hex number xx.\n",
    "       Return the decoded string.  Raise `ValueError` for invalid inputs.\"\"\"\n",
    "\n",
    "    # Mapping of hex digits to their integer values\n",
    "    hex_values = {\n",
    "        '0': 0, '1': 1, '2': 2, '3': 3, '4': 4,\n",
    "        '5': 5, '6': 6, '7': 7, '8': 8, '9': 9,\n",
    "        'a': 10, 'b': 11, 'c': 12, 'd': 13, 'e': 14, 'f': 15,\n",
    "        'A': 10, 'B': 11, 'C': 12, 'D': 13, 'E': 14, 'F': 15,\n",
    "    }\n",
    "\n",
    "    t = \"\"\n",
    "    i = 0\n",
    "    while i < len(s):\n",
    "        c = s[i]\n",
    "        if c == '+':\n",
    "            t += ' '\n",
    "        elif c == '%':\n",
    "            digit_high, digit_low = s[i + 1], s[i + 2]\n",
    "            i += 2\n",
    "            if digit_high in hex_values and digit_low in hex_values:\n",
    "                v = hex_values[digit_high] * 16 + hex_values[digit_low]\n",
    "                t += chr(v)\n",
    "            else:\n",
    "                raise ValueError(\"Invalid encoding\")\n",
    "        else:\n",
    "            t += c\n",
    "        i += 1\n",
    "    return t\n",
    "\n",
    "cgi_decode(\"Hello+world%26%20%5C\")\n"
   ]
  },
  {
   "cell_type": "code",
   "execution_count": 46,
   "id": "6318d9b5",
   "metadata": {},
   "outputs": [
    {
     "name": "stdout",
     "output_type": "stream",
     "text": [
      "pass\n"
     ]
    }
   ],
   "source": [
    "try:\n",
    "    cgi_decode('%12')\n",
    "    print(\"pass\")\n",
    "except ValueError:\n",
    "    print(\"error\")\n"
   ]
  },
  {
   "cell_type": "code",
   "execution_count": 51,
   "id": "8337f96d",
   "metadata": {},
   "outputs": [
    {
     "name": "stdout",
     "output_type": "stream",
     "text": [
      "error\n"
     ]
    }
   ],
   "source": [
    "assert cgi_decode('+') == ' '\n",
    "assert cgi_decode('%20') == ' '\n",
    "assert cgi_decode('abc') == 'abc'\n",
    "\n",
    "try:\n",
    "    cgi_decode('%??')\n",
    "    assert True\n",
    "    print(\"pass\")\n",
    "except ValueError:\n",
    "    print(\"error\")"
   ]
  },
  {
   "cell_type": "code",
   "execution_count": 52,
   "id": "8e134a1d",
   "metadata": {},
   "outputs": [
    {
     "name": "stdout",
     "output_type": "stream",
     "text": [
      "{('cgi_decode', 32), ('cgi_decode', 16), ('cgi_decode', 12), ('cgi_decode', 19), ('cgi_decode', 9), ('cgi_decode', 15), ('cgi_decode', 31), ('cgi_decode', 18), ('cgi_decode', 8), ('cgi_decode', 21), ('cgi_decode', 11), ('cgi_decode', 17), ('cgi_decode', 30), ('cgi_decode', 20), ('cgi_decode', 10)}\n"
     ]
    }
   ],
   "source": [
    "from fuzzingbook.Coverage import Coverage\n",
    "with Coverage() as cov:\n",
    "    cgi_decode(\"a+b\")\n",
    "\n",
    "print(cov.coverage())\n"
   ]
  },
  {
   "cell_type": "code",
   "execution_count": 53,
   "id": "a13dbad0",
   "metadata": {},
   "outputs": [
    {
     "data": {
      "text/plain": [
       "'4/%18./>0>;)*8\\'?1;8?0>38!9%1:<,54.4#5,+.5:42/.-3&&3(#+40<2;4)\\'):6:*=:56--\"15'"
      ]
     },
     "execution_count": 53,
     "metadata": {},
     "output_type": "execute_result"
    }
   ],
   "source": [
    "from fuzzingbook.Fuzzer import fuzzer\n",
    "sample = fuzzer()\n",
    "sample"
   ]
  },
  {
   "cell_type": "code",
   "execution_count": 54,
   "id": "b9b165a2",
   "metadata": {},
   "outputs": [
    {
     "data": {
      "text/plain": [
       "{('cgi_decode', 8),\n",
       " ('cgi_decode', 9),\n",
       " ('cgi_decode', 10),\n",
       " ('cgi_decode', 11),\n",
       " ('cgi_decode', 12),\n",
       " ('cgi_decode', 15),\n",
       " ('cgi_decode', 16),\n",
       " ('cgi_decode', 17),\n",
       " ('cgi_decode', 18),\n",
       " ('cgi_decode', 19),\n",
       " ('cgi_decode', 21),\n",
       " ('cgi_decode', 22),\n",
       " ('cgi_decode', 23),\n",
       " ('cgi_decode', 24),\n",
       " ('cgi_decode', 25),\n",
       " ('cgi_decode', 26),\n",
       " ('cgi_decode', 28),\n",
       " ('cgi_decode', 30),\n",
       " ('cgi_decode', 31)}"
      ]
     },
     "execution_count": 54,
     "metadata": {},
     "output_type": "execute_result"
    }
   ],
   "source": [
    "with Coverage() as cov_fuzz:\n",
    "    try:\n",
    "        cgi_decode(sample)\n",
    "    except:\n",
    "        pass\n",
    "cov_fuzz.coverage()"
   ]
  },
  {
   "cell_type": "code",
   "execution_count": 55,
   "id": "1e721244",
   "metadata": {},
   "outputs": [],
   "source": [
    "import random\n",
    "def delete_random_character(s: str) -> str:\n",
    "    \"\"\"Returns s with a random character deleted\"\"\"\n",
    "    if s == \"\":\n",
    "        return s\n",
    "\n",
    "    pos = random.randint(0, len(s) - 1)\n",
    "    # print(\"Deleting\", repr(s[pos]), \"at\", pos)\n",
    "    return s[:pos] + s[pos + 1:]\n"
   ]
  },
  {
   "cell_type": "code",
   "execution_count": 56,
   "id": "c5998db1",
   "metadata": {},
   "outputs": [
    {
     "name": "stdout",
     "output_type": "stream",
     "text": [
      "'A quick brwn fox'\n",
      "'A quick rown fox'\n",
      "'A quick rown fox'\n",
      "'A quick brown fo'\n",
      "'A quick brow fox'\n",
      "'A quick bron fox'\n",
      "'A quick rown fox'\n",
      "'A quick rown fox'\n",
      "'A quick rown fox'\n",
      "'A quick brown fx'\n"
     ]
    }
   ],
   "source": [
    "seed_input = \"A quick brown fox\"\n",
    "for i in range(10):\n",
    "    x = delete_random_character(seed_input)\n",
    "    print(repr(x))\n"
   ]
  },
  {
   "cell_type": "code",
   "execution_count": 57,
   "id": "7443577e",
   "metadata": {},
   "outputs": [],
   "source": [
    "def insert_random_character(s: str) -> str:\n",
    "    \"\"\"Returns s with a random character inserted\"\"\"\n",
    "    pos = random.randint(0, len(s))\n",
    "    random_character = chr(random.randrange(32, 127))\n",
    "    # print(\"Inserting\", repr(random_character), \"at\", pos)\n",
    "    return s[:pos] + random_character + s[pos:]\n"
   ]
  },
  {
   "cell_type": "code",
   "execution_count": 58,
   "id": "75fc669d",
   "metadata": {},
   "outputs": [],
   "source": [
    "def flip_random_character(s):\n",
    "    \"\"\"Returns s with a random bit flipped in a random position\"\"\"\n",
    "    if s == \"\":\n",
    "        return s\n",
    "\n",
    "    pos = random.randint(0, len(s) - 1)\n",
    "    c = s[pos]\n",
    "    bit = 1 << random.randint(0, 6)\n",
    "    new_c = chr(ord(c) ^ bit)\n",
    "    # print(\"Flipping\", bit, \"in\", repr(c) + \", giving\", repr(new_c))\n",
    "    return s[:pos] + new_c + s[pos + 1:]\n"
   ]
  },
  {
   "cell_type": "code",
   "execution_count": 59,
   "id": "572a4cec",
   "metadata": {},
   "outputs": [],
   "source": [
    "def mutate(s: str) -> str:\n",
    "    \"\"\"Return s with a random mutation applied\"\"\"\n",
    "    mutators = [\n",
    "        delete_random_character,\n",
    "        insert_random_character,\n",
    "        flip_random_character\n",
    "    ]\n",
    "    mutator = random.choice(mutators)\n",
    "    # print(mutator)\n",
    "    return mutator(s)"
   ]
  },
  {
   "cell_type": "code",
   "execution_count": 60,
   "id": "09150906",
   "metadata": {},
   "outputs": [
    {
     "name": "stdout",
     "output_type": "stream",
     "text": [
      "'A quickc brown fox'\n",
      "'AF quick brown fox'\n",
      "'A quick breown fox'\n",
      "'.A quick brown fox'\n",
      "'A quick bown fox'\n",
      "'Aquick brown fox'\n",
      "'A quick browny fox'\n",
      "'A quic brown fox'\n",
      "'A quic+ brown fox'\n",
      "'A quyck brown fox'\n"
     ]
    }
   ],
   "source": [
    "for i in range(10):\n",
    "    print(repr(mutate(\"A quick brown fox\")))\n"
   ]
  },
  {
   "cell_type": "code",
   "execution_count": null,
   "id": "26b49620",
   "metadata": {},
   "outputs": [],
   "source": []
  }
 ],
 "metadata": {
  "kernelspec": {
   "display_name": "Python 3 (ipykernel)",
   "language": "python",
   "name": "python3"
  },
  "language_info": {
   "codemirror_mode": {
    "name": "ipython",
    "version": 3
   },
   "file_extension": ".py",
   "mimetype": "text/x-python",
   "name": "python",
   "nbconvert_exporter": "python",
   "pygments_lexer": "ipython3",
   "version": "3.11.4"
  }
 },
 "nbformat": 4,
 "nbformat_minor": 5
}
